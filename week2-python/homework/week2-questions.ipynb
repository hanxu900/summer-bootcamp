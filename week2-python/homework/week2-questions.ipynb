{
 "cells": [
  {
   "cell_type": "markdown",
   "metadata": {},
   "source": [
    "####Numpy\n",
    "0. Create a 3x3 matrix with values ranging from 0 to 8.\n",
    "\n",
    "\n",
    "1. Create a random array of size 10 and sort it\n",
    "\n",
    "\n",
    "2. Remove from one array those items that exist in another\n",
    "For example, a1 = [1, 2, 3], a2 = [1, 3] --> result = [2]\n",
    "\n",
    "\n",
    "3. Get the positions where elements of two arrays match\n",
    "For example, a1 = [1, 2, 3, 10], a2 = [5, 4, 3, 10] --> result = [2, 3]\n",
    "\n",
    "\n",
    "4. Replace \"Michael\" with \"Mike\" in x\n",
    "x = np.array(['Hello name is Michael'], dtype=np.str)\n",
    "\n",
    "\n",
    "5.  Lex x be an array [[ 1, 2],[ 3, 4]]\n",
    "Rotate x 90 degrees counter-clockwise.\n",
    "expected result = [[3, 1], [4, 2]]\n"
   ]
  },
  {
   "cell_type": "markdown",
   "metadata": {},
   "source": [
    "####pandas\n",
    "\n",
    "\n",
    "data = {'animal': ['cat', 'cat', 'snake', 'dog', 'dog', 'cat', 'snake', 'cat', 'dog', 'dog'],\n",
    "        'age': [2.5, 3, 0.5, np.nan, 5, 2, 4.5, np.nan, 7, 3],\n",
    "        'visits': [1, 3, 2, 3, 2, 3, 1, 1, 2, 1],\n",
    "        'priority': ['yes', 'yes', 'no', 'yes', 'no', 'no', 'no', 'yes', 'no', 'no']}\n",
    "\n",
    "\n",
    "labels = ['a', 'b', 'c', 'd', 'e', 'f', 'g', 'h', 'i', 'j']\n",
    "\n",
    "\n",
    "\n",
    "1. Create a DataFrame df from this dictionary data which has the index labels\n",
    "\n",
    "\n",
    "2. Return the first 3 rows of the DataFrame df.\n",
    "\n",
    "\n",
    "3. Select just the 'animal' and 'age' columns from the DataFrame df.\n",
    "\n",
    "\n",
    "4. Select the data in rows [3, 4, 8] and in columns ['animal', 'age'].\n",
    "\n",
    "\n",
    "5. Select the rows where the animal is a cat and the age is less than 3.\n",
    "\n",
    "\n",
    "6. Calculate the sum of all visits (the total number of visits).\n",
    "\n",
    "\n",
    "7. In the 'animal' column, change the 'snake' entries to 'python'."
   ]
  }
 ],
 "metadata": {
  "kernelspec": {
   "display_name": "Python 3",
   "language": "python",
   "name": "python3"
  },
  "language_info": {
   "codemirror_mode": {
    "name": "ipython",
    "version": 3
   },
   "file_extension": ".py",
   "mimetype": "text/x-python",
   "name": "python",
   "nbconvert_exporter": "python",
   "pygments_lexer": "ipython3",
   "version": "3.7.3"
  }
 },
 "nbformat": 4,
 "nbformat_minor": 2
}
