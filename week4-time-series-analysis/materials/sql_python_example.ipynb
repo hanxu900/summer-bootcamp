{
 "cells": [
  {
   "cell_type": "code",
   "execution_count": 1,
   "metadata": {},
   "outputs": [],
   "source": [
    "import psycopg2\n",
    "import pandas as pd\n",
    "import io\n",
    "import os"
   ]
  },
  {
   "cell_type": "code",
   "execution_count": 2,
   "metadata": {},
   "outputs": [],
   "source": [
    "def database(db_command_func, *data):\n",
    "    try:\n",
    "        #! 换成自己的用户名密码\n",
    "        conn = psycopg2.connect(dbname='mikedb', user='mike', host='104.198.59.118', password='')\n",
    "        print(\"connection success\")\n",
    "    except:\n",
    "        print(\"I am unable to connect to the database\")\n",
    "        \n",
    "    result = 0\n",
    "    if not data:    \n",
    "        result = db_command_func(conn.cursor())\n",
    "    else:\n",
    "        result = db_command_func(conn.cursor(), *data)\n",
    "        \n",
    "    conn.commit()\n",
    "    conn.close()\n",
    "    \n",
    "    return result"
   ]
  },
  {
   "cell_type": "code",
   "execution_count": 3,
   "metadata": {},
   "outputs": [],
   "source": [
    "def create_table_if_not_exist(cursor):\n",
    "    cursor.execute(\"\"\"\n",
    "                CREATE TABLE IF NOT EXISTS sz_stocks (\n",
    "                        pricing_date TIMESTAMP NOT NULL, \n",
    "                        open  DECIMAL NOT NULL, \n",
    "                        high  DECIMAL NOT NULL, \n",
    "                        low  DECIMAL NOT NULL,\n",
    "                        close  DECIMAL NOT NULL,\n",
    "                        volume  DECIMAL NOT NULL,\n",
    "                        stock_symbol VARCHAR(255) NOT NULL)\"\"\")\n",
    "    #CURRENT_TIMESTAMP\n",
    "    print (\"Table create successful!\")"
   ]
  },
  {
   "cell_type": "code",
   "execution_count": 4,
   "metadata": {},
   "outputs": [
    {
     "name": "stdout",
     "output_type": "stream",
     "text": [
      "connection success\n",
      "Table create successful!\n"
     ]
    }
   ],
   "source": [
    "database(create_table_if_not_exist)"
   ]
  },
  {
   "cell_type": "code",
   "execution_count": 5,
   "metadata": {},
   "outputs": [],
   "source": [
    "def insert_value(cursor, df):\n",
    "    output = io.StringIO();\n",
    "# ignore the index\n",
    "    df.to_csv(output, sep='\\t',index = False, header = False);\n",
    "    output.getvalue();\n",
    "# jump to start of stream\n",
    "    output.seek(0);\n",
    "    cursor.copy_from(output, 'sz_stocks', null='')\n",
    "    print (\"Data insert successful!\")\n",
    "# data frame to sql, df.to_sql('db_table2', engine, if_exists='replace')"
   ]
  },
  {
   "cell_type": "code",
   "execution_count": 6,
   "metadata": {},
   "outputs": [],
   "source": [
    "def select_table_name(cursor):\n",
    "    cursor.execute(\"\"\"SELECT table_schema, table_name FROM information_schema.tables\n",
    "                       WHERE table_schema = 'public'\"\"\")\n",
    "    rows = cursor.fetchall()\n",
    "    print (\"\\nShow me the data:\\n\")\n",
    "\n",
    "    # inserted line sum 5000 * 500, head(0) \n",
    "    for row in rows:\n",
    "        print (\"   \", row)"
   ]
  },
  {
   "cell_type": "code",
   "execution_count": 7,
   "metadata": {},
   "outputs": [
    {
     "name": "stdout",
     "output_type": "stream",
     "text": [
      "connection success\n",
      "\n",
      "Show me the data:\n",
      "\n",
      "    ('public', 'company')\n",
      "    ('public', 'sz_stocks')\n",
      "    ('public', 'company_example')\n",
      "    ('public', 'stock_example')\n",
      "    ('public', 'exchange_example')\n"
     ]
    }
   ],
   "source": [
    "database(select_table_name)"
   ]
  },
  {
   "cell_type": "code",
   "execution_count": 12,
   "metadata": {},
   "outputs": [
    {
     "name": "stdout",
     "output_type": "stream",
     "text": [
      "total 4 files\n",
      "connection success\n",
      "Data insert successful!\n",
      "file No. 1; progress bar: 0.25\n",
      "connection success\n",
      "Data insert successful!\n",
      "file No. 2; progress bar: 0.5\n",
      "connection success\n",
      "Data insert successful!\n",
      "file No. 3; progress bar: 0.75\n",
      "connection success\n",
      "Data insert successful!\n",
      "file No. 4; progress bar: 1.0\n",
      "All data insert successful\n"
     ]
    }
   ],
   "source": [
    "def read_csv(folder_path):\n",
    "    try:\n",
    "        file_list = os.listdir(folder_path)\n",
    "    except:\n",
    "        print('cannot find the folder path')\n",
    "    # file_list line sum -> 5000 * 500, head(0) random sample \n",
    "    count = 0\n",
    "    print('total '+ str(len(file_list)) + ' files')\n",
    "    for name in file_list:\n",
    "        file_path = folder_path + '/' + name\n",
    "        df0 = pd.read_csv(file_path, sep = ',' ,names = ['date','open','high','low','close','volume','name'],index_col=False,header=None)\n",
    "        df = df0.drop(df0.index[0])\n",
    "        df['name'] = name[0:8]\n",
    "        database(insert_value, df)\n",
    "        count += 1\n",
    "        speed = round(count / len(file_list), 3)\n",
    "        print('file No. ' + str(count) + '; progress bar: '+ str(speed))\n",
    "    print (\"All data insert successful\")\n",
    "\n",
    "read_csv(os.getcwd() + '/stocks')    "
   ]
  },
  {
   "cell_type": "code",
   "execution_count": 15,
   "metadata": {},
   "outputs": [],
   "source": [
    "def select_data(cursor):\n",
    "    cursor.execute(\"\"\"SELECT pricing_date, close, stock_symbol from sz_stocks WHERE pricing_date < '2018-01-01'  and pricing_date > '2007-12-31'\"\"\")\n",
    "    rows = cursor.fetchall()\n",
    "    cursor.execute(\"\"\"SELECT COUNT(*) from sz_stocks\"\"\")\n",
    "    count = cursor.fetchall()\n",
    "    print (\"\\nShow me the data:\\n\")\n",
    "    print('Total' + str(count) + ' data are selected')\n",
    "    return rows\n",
    "\n",
    "        \n",
    "def select_table_name(cursor):\n",
    "    cursor.execute(\"\"\"SELECT table_schema, table_name FROM information_schema.tables\n",
    "                       WHERE table_schema = 'public'\"\"\")\n",
    "    rows = cursor.fetchall()\n",
    "    print (\"\\nShow me the data:\\n\")\n",
    "\n",
    "    # inserted line sum 5000 * 500, head(0) \n",
    "    for row in rows:\n",
    "        print (\"   \", row)\n"
   ]
  },
  {
   "cell_type": "code",
   "execution_count": 18,
   "metadata": {},
   "outputs": [
    {
     "name": "stdout",
     "output_type": "stream",
     "text": [
      "connection success\n",
      "Table create successful!\n",
      "total 4 files\n",
      "connection success\n",
      "Data insert successful!\n",
      "file No. 1; progress bar: 0.25\n",
      "connection success\n",
      "Data insert successful!\n",
      "file No. 2; progress bar: 0.5\n",
      "connection success\n",
      "Data insert successful!\n",
      "file No. 3; progress bar: 0.75\n",
      "connection success\n",
      "Data insert successful!\n",
      "file No. 4; progress bar: 1.0\n",
      "All data insert successful\n",
      "connection success\n",
      "\n",
      "Show me the data:\n",
      "\n",
      "    ('public', 'company')\n",
      "    ('public', 'sz_stocks')\n",
      "    ('public', 'company_example')\n",
      "    ('public', 'stock_example')\n",
      "    ('public', 'exchange_example')\n",
      "connection success\n",
      "\n",
      "Show me the data:\n",
      "\n",
      "Total[(85,)] data are selected\n",
      "[(datetime.datetime(2012, 12, 31, 0, 0), Decimal('5.500'), 'SZ430129'), (datetime.datetime(2012, 9, 7, 0, 0), Decimal('5.900'), 'SZ430139'), (datetime.datetime(2012, 10, 19, 0, 0), Decimal('6.280'), 'SZ430139'), (datetime.datetime(2013, 1, 18, 0, 0), Decimal('5.000'), 'SZ430139'), (datetime.datetime(2013, 2, 26, 0, 0), Decimal('6.000'), 'SZ430139'), (datetime.datetime(2013, 3, 12, 0, 0), Decimal('7.180'), 'SZ430139'), (datetime.datetime(2013, 5, 13, 0, 0), Decimal('6.000'), 'SZ430139'), (datetime.datetime(2013, 5, 14, 0, 0), Decimal('5.950'), 'SZ430139'), (datetime.datetime(2013, 5, 16, 0, 0), Decimal('6.380'), 'SZ430139'), (datetime.datetime(2013, 5, 24, 0, 0), Decimal('6.000'), 'SZ430139'), (datetime.datetime(2013, 5, 29, 0, 0), Decimal('6.630'), 'SZ430139'), (datetime.datetime(2013, 6, 3, 0, 0), Decimal('6.590'), 'SZ430139'), (datetime.datetime(2012, 10, 12, 0, 0), Decimal('8.000'), 'SZ430149'), (datetime.datetime(2013, 5, 30, 0, 0), Decimal('5.600'), 'SZ430149'), (datetime.datetime(2013, 6, 17, 0, 0), Decimal('6.100'), 'SZ430149'), (datetime.datetime(2012, 12, 31, 0, 0), Decimal('11.800'), 'SZ430199'), (datetime.datetime(2013, 1, 14, 0, 0), Decimal('5.000'), 'SZ430199'), (datetime.datetime(2012, 12, 31, 0, 0), Decimal('5.500'), 'SZ430129'), (datetime.datetime(2012, 9, 7, 0, 0), Decimal('5.900'), 'SZ430139'), (datetime.datetime(2012, 10, 19, 0, 0), Decimal('6.280'), 'SZ430139'), (datetime.datetime(2013, 1, 18, 0, 0), Decimal('5.000'), 'SZ430139'), (datetime.datetime(2013, 2, 26, 0, 0), Decimal('6.000'), 'SZ430139'), (datetime.datetime(2013, 3, 12, 0, 0), Decimal('7.180'), 'SZ430139'), (datetime.datetime(2013, 5, 13, 0, 0), Decimal('6.000'), 'SZ430139'), (datetime.datetime(2013, 5, 14, 0, 0), Decimal('5.950'), 'SZ430139'), (datetime.datetime(2013, 5, 16, 0, 0), Decimal('6.380'), 'SZ430139'), (datetime.datetime(2013, 5, 24, 0, 0), Decimal('6.000'), 'SZ430139'), (datetime.datetime(2013, 5, 29, 0, 0), Decimal('6.630'), 'SZ430139'), (datetime.datetime(2013, 6, 3, 0, 0), Decimal('6.590'), 'SZ430139'), (datetime.datetime(2012, 10, 12, 0, 0), Decimal('8.000'), 'SZ430149'), (datetime.datetime(2013, 5, 30, 0, 0), Decimal('5.600'), 'SZ430149'), (datetime.datetime(2013, 6, 17, 0, 0), Decimal('6.100'), 'SZ430149'), (datetime.datetime(2012, 12, 31, 0, 0), Decimal('11.800'), 'SZ430199'), (datetime.datetime(2013, 1, 14, 0, 0), Decimal('5.000'), 'SZ430199'), (datetime.datetime(2012, 12, 31, 0, 0), Decimal('5.500'), 'SZ430129'), (datetime.datetime(2012, 9, 7, 0, 0), Decimal('5.900'), 'SZ430139'), (datetime.datetime(2012, 10, 19, 0, 0), Decimal('6.280'), 'SZ430139'), (datetime.datetime(2013, 1, 18, 0, 0), Decimal('5.000'), 'SZ430139'), (datetime.datetime(2013, 2, 26, 0, 0), Decimal('6.000'), 'SZ430139'), (datetime.datetime(2013, 3, 12, 0, 0), Decimal('7.180'), 'SZ430139'), (datetime.datetime(2013, 5, 13, 0, 0), Decimal('6.000'), 'SZ430139'), (datetime.datetime(2013, 5, 14, 0, 0), Decimal('5.950'), 'SZ430139'), (datetime.datetime(2013, 5, 16, 0, 0), Decimal('6.380'), 'SZ430139'), (datetime.datetime(2013, 5, 24, 0, 0), Decimal('6.000'), 'SZ430139'), (datetime.datetime(2013, 5, 29, 0, 0), Decimal('6.630'), 'SZ430139'), (datetime.datetime(2013, 6, 3, 0, 0), Decimal('6.590'), 'SZ430139'), (datetime.datetime(2012, 10, 12, 0, 0), Decimal('8.000'), 'SZ430149'), (datetime.datetime(2013, 5, 30, 0, 0), Decimal('5.600'), 'SZ430149'), (datetime.datetime(2013, 6, 17, 0, 0), Decimal('6.100'), 'SZ430149'), (datetime.datetime(2012, 12, 31, 0, 0), Decimal('11.800'), 'SZ430199'), (datetime.datetime(2013, 1, 14, 0, 0), Decimal('5.000'), 'SZ430199'), (datetime.datetime(2012, 12, 31, 0, 0), Decimal('5.500'), 'SZ430129'), (datetime.datetime(2012, 9, 7, 0, 0), Decimal('5.900'), 'SZ430139'), (datetime.datetime(2012, 10, 19, 0, 0), Decimal('6.280'), 'SZ430139'), (datetime.datetime(2013, 1, 18, 0, 0), Decimal('5.000'), 'SZ430139'), (datetime.datetime(2013, 2, 26, 0, 0), Decimal('6.000'), 'SZ430139'), (datetime.datetime(2013, 3, 12, 0, 0), Decimal('7.180'), 'SZ430139'), (datetime.datetime(2013, 5, 13, 0, 0), Decimal('6.000'), 'SZ430139'), (datetime.datetime(2013, 5, 14, 0, 0), Decimal('5.950'), 'SZ430139'), (datetime.datetime(2013, 5, 16, 0, 0), Decimal('6.380'), 'SZ430139'), (datetime.datetime(2013, 5, 24, 0, 0), Decimal('6.000'), 'SZ430139'), (datetime.datetime(2013, 5, 29, 0, 0), Decimal('6.630'), 'SZ430139'), (datetime.datetime(2013, 6, 3, 0, 0), Decimal('6.590'), 'SZ430139'), (datetime.datetime(2012, 10, 12, 0, 0), Decimal('8.000'), 'SZ430149'), (datetime.datetime(2013, 5, 30, 0, 0), Decimal('5.600'), 'SZ430149'), (datetime.datetime(2013, 6, 17, 0, 0), Decimal('6.100'), 'SZ430149'), (datetime.datetime(2012, 12, 31, 0, 0), Decimal('11.800'), 'SZ430199'), (datetime.datetime(2013, 1, 14, 0, 0), Decimal('5.000'), 'SZ430199'), (datetime.datetime(2012, 12, 31, 0, 0), Decimal('5.500'), 'SZ430129'), (datetime.datetime(2012, 9, 7, 0, 0), Decimal('5.900'), 'SZ430139'), (datetime.datetime(2012, 10, 19, 0, 0), Decimal('6.280'), 'SZ430139'), (datetime.datetime(2013, 1, 18, 0, 0), Decimal('5.000'), 'SZ430139'), (datetime.datetime(2013, 2, 26, 0, 0), Decimal('6.000'), 'SZ430139'), (datetime.datetime(2013, 3, 12, 0, 0), Decimal('7.180'), 'SZ430139'), (datetime.datetime(2013, 5, 13, 0, 0), Decimal('6.000'), 'SZ430139'), (datetime.datetime(2013, 5, 14, 0, 0), Decimal('5.950'), 'SZ430139'), (datetime.datetime(2013, 5, 16, 0, 0), Decimal('6.380'), 'SZ430139'), (datetime.datetime(2013, 5, 24, 0, 0), Decimal('6.000'), 'SZ430139'), (datetime.datetime(2013, 5, 29, 0, 0), Decimal('6.630'), 'SZ430139'), (datetime.datetime(2013, 6, 3, 0, 0), Decimal('6.590'), 'SZ430139'), (datetime.datetime(2012, 10, 12, 0, 0), Decimal('8.000'), 'SZ430149'), (datetime.datetime(2013, 5, 30, 0, 0), Decimal('5.600'), 'SZ430149'), (datetime.datetime(2013, 6, 17, 0, 0), Decimal('6.100'), 'SZ430149'), (datetime.datetime(2012, 12, 31, 0, 0), Decimal('11.800'), 'SZ430199'), (datetime.datetime(2013, 1, 14, 0, 0), Decimal('5.000'), 'SZ430199')]\n"
     ]
    }
   ],
   "source": [
    "folder_path = os.getcwd() + '/stocks'\n",
    "database(create_table_if_not_exist)\n",
    "read_csv(folder_path)\n",
    "database(select_table_name)\n",
    "a = database(select_data)\n",
    "print(a)\n",
    "database(check_insert, folder_path)\n"
   ]
  },
  {
   "cell_type": "code",
   "execution_count": 21,
   "metadata": {},
   "outputs": [],
   "source": [
    "def check_insert(cursor, folder_path):\n",
    "    cursor.execute(\"\"\"SELECT * from sz_stocks WHERE TO_CHAR(pricing_date,'YYYY/MM/DD') = '2013/06/17'\"\"\")\n",
    "    rows = cursor.fetchall()\n",
    "    test_id = 'SZ430149'\n",
    "    test_1 = 0\n",
    "    test_2 = 0\n",
    "    for row in rows:\n",
    "        if row[-2] == test_id:\n",
    "            test_1 += 1\n",
    "            sql_close = row[-4]\n",
    "    try:\n",
    "        file_list = os.listdir(folder_path)\n",
    "    except:\n",
    "        print('cannot find the folder path')\n",
    "    # file_list line sum -> 5000 * 500, head(0) random sample \n",
    "    for name in file_list:\n",
    "        if name == test_id:\n",
    "            file_path = folder_path + '/' + name\n",
    "            df0 = pd.read_csv(file_path, sep = ',' ,names = ['date','open','high','low','close','volume','name'],index_col=False,header=None)\n",
    "            df = df0.drop(df0.index[0])\n",
    "            \n",
    "            for _, row in df.iterrows():\n",
    "                if row.date == '2017/12/1 0:00':\n",
    "                    test_2 += 1\n",
    "                    csv_close = row.close\n",
    "    print ('sql ' + str(test_1) + '; csv ' + str(test_2) + str(test_2))\n",
    "    print ('sql_close: ' + str(sql_close) + '; csv_close: ' + str(csv_close))\n",
    "    if sql_close == csv_close:\n",
    "        print ('Test PASS ')  "
   ]
  },
  {
   "cell_type": "code",
   "execution_count": 22,
   "metadata": {},
   "outputs": [
    {
     "name": "stdout",
     "output_type": "stream",
     "text": [
      "connection success\n",
      "sql 0; csv 00\n"
     ]
    },
    {
     "ename": "UnboundLocalError",
     "evalue": "local variable 'sql_close' referenced before assignment",
     "traceback": [
      "\u001b[0;31m---------------------------------------------------------------------------\u001b[0m",
      "\u001b[0;31mUnboundLocalError\u001b[0m                         Traceback (most recent call last)",
      "\u001b[0;32m<ipython-input-22-c95c3613cf7c>\u001b[0m in \u001b[0;36m<module>\u001b[0;34m\u001b[0m\n\u001b[0;32m----> 1\u001b[0;31m \u001b[0mdatabase\u001b[0m\u001b[0;34m(\u001b[0m\u001b[0mcheck_insert\u001b[0m\u001b[0;34m,\u001b[0m \u001b[0mfolder_path\u001b[0m\u001b[0;34m)\u001b[0m\u001b[0;34m\u001b[0m\u001b[0;34m\u001b[0m\u001b[0m\n\u001b[0m",
      "\u001b[0;32m<ipython-input-2-d35825826d07>\u001b[0m in \u001b[0;36mdatabase\u001b[0;34m(db_command_func, *data)\u001b[0m\n\u001b[1;32m     10\u001b[0m         \u001b[0mresult\u001b[0m \u001b[0;34m=\u001b[0m \u001b[0mdb_command_func\u001b[0m\u001b[0;34m(\u001b[0m\u001b[0mconn\u001b[0m\u001b[0;34m.\u001b[0m\u001b[0mcursor\u001b[0m\u001b[0;34m(\u001b[0m\u001b[0;34m)\u001b[0m\u001b[0;34m)\u001b[0m\u001b[0;34m\u001b[0m\u001b[0;34m\u001b[0m\u001b[0m\n\u001b[1;32m     11\u001b[0m     \u001b[0;32melse\u001b[0m\u001b[0;34m:\u001b[0m\u001b[0;34m\u001b[0m\u001b[0;34m\u001b[0m\u001b[0m\n\u001b[0;32m---> 12\u001b[0;31m         \u001b[0mresult\u001b[0m \u001b[0;34m=\u001b[0m \u001b[0mdb_command_func\u001b[0m\u001b[0;34m(\u001b[0m\u001b[0mconn\u001b[0m\u001b[0;34m.\u001b[0m\u001b[0mcursor\u001b[0m\u001b[0;34m(\u001b[0m\u001b[0;34m)\u001b[0m\u001b[0;34m,\u001b[0m \u001b[0;34m*\u001b[0m\u001b[0mdata\u001b[0m\u001b[0;34m)\u001b[0m\u001b[0;34m\u001b[0m\u001b[0;34m\u001b[0m\u001b[0m\n\u001b[0m\u001b[1;32m     13\u001b[0m \u001b[0;34m\u001b[0m\u001b[0m\n\u001b[1;32m     14\u001b[0m     \u001b[0mconn\u001b[0m\u001b[0;34m.\u001b[0m\u001b[0mcommit\u001b[0m\u001b[0;34m(\u001b[0m\u001b[0;34m)\u001b[0m\u001b[0;34m\u001b[0m\u001b[0;34m\u001b[0m\u001b[0m\n",
      "\u001b[0;32m<ipython-input-21-fd9c3680d154>\u001b[0m in \u001b[0;36mcheck_insert\u001b[0;34m(cursor, folder_path)\u001b[0m\n\u001b[1;32m     25\u001b[0m                     \u001b[0mcsv_close\u001b[0m \u001b[0;34m=\u001b[0m \u001b[0mrow\u001b[0m\u001b[0;34m.\u001b[0m\u001b[0mclose\u001b[0m\u001b[0;34m\u001b[0m\u001b[0;34m\u001b[0m\u001b[0m\n\u001b[1;32m     26\u001b[0m     \u001b[0mprint\u001b[0m \u001b[0;34m(\u001b[0m\u001b[0;34m'sql '\u001b[0m \u001b[0;34m+\u001b[0m \u001b[0mstr\u001b[0m\u001b[0;34m(\u001b[0m\u001b[0mtest_1\u001b[0m\u001b[0;34m)\u001b[0m \u001b[0;34m+\u001b[0m \u001b[0;34m'; csv '\u001b[0m \u001b[0;34m+\u001b[0m \u001b[0mstr\u001b[0m\u001b[0;34m(\u001b[0m\u001b[0mtest_2\u001b[0m\u001b[0;34m)\u001b[0m \u001b[0;34m+\u001b[0m \u001b[0mstr\u001b[0m\u001b[0;34m(\u001b[0m\u001b[0mtest_2\u001b[0m\u001b[0;34m)\u001b[0m\u001b[0;34m)\u001b[0m\u001b[0;34m\u001b[0m\u001b[0;34m\u001b[0m\u001b[0m\n\u001b[0;32m---> 27\u001b[0;31m     \u001b[0mprint\u001b[0m \u001b[0;34m(\u001b[0m\u001b[0;34m'sql_close: '\u001b[0m \u001b[0;34m+\u001b[0m \u001b[0mstr\u001b[0m\u001b[0;34m(\u001b[0m\u001b[0msql_close\u001b[0m\u001b[0;34m)\u001b[0m \u001b[0;34m+\u001b[0m \u001b[0;34m'; csv_close: '\u001b[0m \u001b[0;34m+\u001b[0m \u001b[0mstr\u001b[0m\u001b[0;34m(\u001b[0m\u001b[0mcsv_close\u001b[0m\u001b[0;34m)\u001b[0m\u001b[0;34m)\u001b[0m\u001b[0;34m\u001b[0m\u001b[0;34m\u001b[0m\u001b[0m\n\u001b[0m\u001b[1;32m     28\u001b[0m     \u001b[0;32mif\u001b[0m \u001b[0msql_close\u001b[0m \u001b[0;34m==\u001b[0m \u001b[0mcsv_close\u001b[0m\u001b[0;34m:\u001b[0m\u001b[0;34m\u001b[0m\u001b[0;34m\u001b[0m\u001b[0m\n\u001b[1;32m     29\u001b[0m         \u001b[0mprint\u001b[0m \u001b[0;34m(\u001b[0m\u001b[0;34m'Test PASS '\u001b[0m\u001b[0;34m)\u001b[0m\u001b[0;34m\u001b[0m\u001b[0;34m\u001b[0m\u001b[0m\n",
      "\u001b[0;31mUnboundLocalError\u001b[0m: local variable 'sql_close' referenced before assignment"
     ],
     "output_type": "error"
    }
   ],
   "source": [
    "database(check_insert, folder_path)"
   ]
  },
  {
   "cell_type": "code",
   "execution_count": null,
   "metadata": {},
   "outputs": [],
   "source": []
  }
 ],
 "metadata": {
  "kernelspec": {
   "display_name": "Python 3",
   "language": "python",
   "name": "python3"
  },
  "language_info": {
   "codemirror_mode": {
    "name": "ipython",
    "version": 3
   },
   "file_extension": ".py",
   "mimetype": "text/x-python",
   "name": "python",
   "nbconvert_exporter": "python",
   "pygments_lexer": "ipython3",
   "version": "3.7.3"
  }
 },
 "nbformat": 4,
 "nbformat_minor": 2
}
